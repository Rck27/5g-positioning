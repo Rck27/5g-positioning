{
 "cells": [
  {
   "cell_type": "code",
   "execution_count": 7,
   "id": "df096230",
   "metadata": {},
   "outputs": [],
   "source": [
    "import numpy as np\n",
    "import matplotlib.pyplot as plt\n",
    "from scipy.optimize import least_squares\n",
    "\n",
    "# Mock dataset (replace with your actual data)\n",
    "data = {\n",
    "    \"NR_UE_PCI_0\": 48,               # Serving cell PCI\n",
    "    \"NR_UE_Nbr_PCI_0\": 76,           # Neighbor 1 PCI\n",
    "    \"NR_UE_Nbr_PCI_1\": 0,           # Neighbor 2 PCI\n",
    "    \"NR_UE_Nbr_RSRP_0\": -93.6,          # RSRP of neighbor 1 (dBm)\n",
    "    \"NR_UE_Nbr_RSRP_1\": 0,          # RSRP of neighbor 2 (dBm)\n",
    "    \"NR_UE_Timing_Advance\": 0,        # Timing Advance (TA) in microseconds\n",
    "}\n",
    "\n",
    "# Base station (gNB) positions (replace with real coordinates)\n",
    "gNB_positions = {\n",
    "    100: np.array([41.1080861, 29.0281222]),            # Serving cell at origin\n",
    "    101: np.array([41.1054694, 29.0278333\n",
    "]),          # Neighbor 1 at (500m, 0)\n",
    "    102: np.array([0, 0]),           # Neighbor 2 at (0, 500m)\n",
    "}"
   ]
  },
  {
   "cell_type": "code",
   "execution_count": 8,
   "id": "895013ee",
   "metadata": {},
   "outputs": [
    {
     "name": "stdout",
     "output_type": "stream",
     "text": [
      "RSSI-based distances: 472.4m, 1.0m\n"
     ]
    }
   ],
   "source": [
    "def rsrp_to_distance(rsrp, tx_power=30, pl0=30, n=3.5):\n",
    "    \"\"\"Convert RSRP (dBm) to distance using log-distance path loss model.\"\"\"\n",
    "    path_loss = tx_power - rsrp       # Path loss = TxPower - RSRP\n",
    "    distance = 10 ** ((path_loss - pl0) / (10 * n))  # Log-distance formula\n",
    "    return distance\n",
    "\n",
    "# Example: Estimate distances to neighbors\n",
    "dist_rsrp_0 = rsrp_to_distance(data[\"NR_UE_Nbr_RSRP_0\"])\n",
    "dist_rsrp_1 = rsrp_to_distance(data[\"NR_UE_Nbr_RSRP_1\"])\n",
    "print(f\"RSSI-based distances: {dist_rsrp_0:.1f}m, {dist_rsrp_1:.1f}m\")"
   ]
  },
  {
   "cell_type": "code",
   "execution_count": 9,
   "id": "48243acf",
   "metadata": {},
   "outputs": [],
   "source": [
    "# Timing Advance (TA) to distance (1 TA ~ 78m in 5G)\n",
    "ta_distance = data[\"NR_UE_Timing_Advance\"] * 78  # Approximate conversion\n",
    "\n",
    "# Simulate TDoA: Assume TA differences between cells (mock)\n",
    "tdoa_diff = {\n",
    "    (100, 101): 0.5e-6,  # Time difference (s) between serving and neighbor 1\n",
    "    (100, 102): 0.3e-6,  # Time difference (s) between serving and neighbor 2\n",
    "}\n",
    "speed_of_light = 3e8     # m/s\n",
    "\n",
    "# Hyperbolic equations for TDoA\n",
    "def tdoa_equations(pos, tdoa_diff, gNB_positions):\n",
    "    x, y = pos\n",
    "    equations = []\n",
    "    for (pci1, pci2), dt in tdoa_diff.items():\n",
    "        x1, y1 = gNB_positions[pci1]\n",
    "        x2, y2 = gNB_positions[pci2]\n",
    "        d1 = np.sqrt((x - x1)**2 + (y - y1)**2)\n",
    "        d2 = np.sqrt((x - x2)**2 + (y - y2)**2)\n",
    "        equations.append((d1 - d2) - (dt * speed_of_light))\n",
    "    return equations"
   ]
  },
  {
   "cell_type": "code",
   "execution_count": 10,
   "id": "6087f40f",
   "metadata": {},
   "outputs": [
    {
     "name": "stdout",
     "output_type": "stream",
     "text": [
      "Estimated UE position: [-172.79354095 -122.00674458]\n"
     ]
    }
   ],
   "source": [
    "def hybrid_positioning(gNB_positions, tdoa_diff, dist_rsrp, initial_guess=[100, 100]):\n",
    "    # Combine TDoA and RSSI equations\n",
    "    def residuals(pos):\n",
    "        # TDoA residuals\n",
    "        res_tdoa = tdoa_equations(pos, tdoa_diff, gNB_positions)\n",
    "        \n",
    "        # RSSI residuals (distance mismatch)\n",
    "        res_rsrp = []\n",
    "        for i, (pci, dist) in enumerate(dist_rsrp.items()):\n",
    "            gNB_pos = gNB_positions[pci]\n",
    "            d_est = np.sqrt((pos[0] - gNB_pos[0])**2 + (pos[1] - gNB_pos[1])**2)\n",
    "            res_rsrp.append(d_est - dist)\n",
    "        \n",
    "        # Weighted combination (adjust weights based on confidence)\n",
    "        return np.concatenate([res_tdoa, res_rsrp])\n",
    "    \n",
    "    # Solve using nonlinear least squares\n",
    "    result = least_squares(residuals, initial_guess)\n",
    "    return result.x\n",
    "\n",
    "# Mock RSSI distances (key: PCI, value: distance)\n",
    "dist_rsrp = {\n",
    "    101: dist_rsrp_0,\n",
    "    102: dist_rsrp_1,\n",
    "}\n",
    "\n",
    "# Run hybrid positioning\n",
    "ue_pos = hybrid_positioning(gNB_positions, tdoa_diff, dist_rsrp)\n",
    "print(f\"Estimated UE position: {ue_pos}\")"
   ]
  },
  {
   "cell_type": "code",
   "execution_count": 11,
   "id": "a5e510e5",
   "metadata": {},
   "outputs": [
    {
     "data": {
      "image/png": "[encoded data removed]",
      "text/plain": [
       "<Figure size 800x600 with 1 Axes>"
      ]
     },
     "metadata": {},
     "output_type": "display_data"
    }
   ],
   "source": [
    "# Plot base stations and estimated UE position\n",
    "plt.figure(figsize=(8, 6))\n",
    "for pci, pos in gNB_positions.items():\n",
    "    plt.scatter(*pos, label=f\"gNB {pci}\", s=100)\n",
    "plt.scatter(*ue_pos, color=\"red\", marker=\"x\", label=\"Estimated UE\")\n",
    "plt.xlabel(\"X (m)\"); plt.ylabel(\"Y (m)\")\n",
    "plt.title(\"Hybrid TDoA-RSSI Positioning\")\n",
    "plt.legend(); plt.grid()\n",
    "plt.show()"
   ]
  }
 ],
 "metadata": {
  "kernelspec": {
   "display_name": "base",
   "language": "python",
   "name": "python3"
  },
  "language_info": {
   "codemirror_mode": {
    "name": "ipython",
    "version": 3
   },
   "file_extension": ".py",
   "mimetype": "text/x-python",
   "name": "python",
   "nbconvert_exporter": "python",
   "pygments_lexer": "ipython3",
   "version": "3.12.9"
  }
 },
 "nbformat": 4,
 "nbformat_minor": 5
}
